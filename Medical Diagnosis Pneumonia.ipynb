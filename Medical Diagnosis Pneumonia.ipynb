{
 "cells": [
  {
   "cell_type": "markdown",
   "metadata": {},
   "source": [
    "Link of deployed app: https://med7diagnosis.herokuapp.com/"
   ]
  },
  {
   "cell_type": "code",
   "execution_count": 1,
   "metadata": {},
   "outputs": [],
   "source": [
    "from tensorflow.keras.layers import Input, Lambda, Dense, Flatten\n",
    "from tensorflow.keras.models import  Model, Sequential\n",
    "from tensorflow.keras.applications.vgg19 import VGG19, preprocess_input\n",
    "from tensorflow.keras.preprocessing import image\n",
    "from tensorflow.keras.preprocessing.image import ImageDataGenerator\n",
    "import numpy as np\n",
    "import tensorflow as tf\n",
    "from glob import glob\n",
    "import matplotlib.pyplot as plt\n",
    "%matplotlib inline"
   ]
  },
  {
   "cell_type": "code",
   "execution_count": 2,
   "metadata": {},
   "outputs": [
    {
     "name": "stdout",
     "output_type": "stream",
     "text": [
      "[PhysicalDevice(name='/physical_device:GPU:0', device_type='GPU')]\n",
      "Num GPUs Available:  1\n"
     ]
    }
   ],
   "source": [
    "print(tf.config.experimental.list_physical_devices('GPU'))\n",
    "print(\"Num GPUs Available: \", len(tf.config.experimental.list_physical_devices('GPU')))"
   ]
  },
  {
   "cell_type": "code",
   "execution_count": 3,
   "metadata": {},
   "outputs": [],
   "source": [
    "IMAGE_SIZE = [224, 224]\n",
    "train_path = 'datasets/chest_xray/train'\n",
    "test_path = 'datasets/chest_xray/test'\n",
    "val_path = 'datasets/chest_xray/val'"
   ]
  },
  {
   "cell_type": "code",
   "execution_count": 4,
   "metadata": {},
   "outputs": [],
   "source": [
    "vgg = VGG19(input_shape=IMAGE_SIZE + [3], weights='imagenet', include_top=False)"
   ]
  },
  {
   "cell_type": "code",
   "execution_count": 5,
   "metadata": {},
   "outputs": [],
   "source": [
    "for layer in vgg.layers:\n",
    "    layer.trainable = False"
   ]
  },
  {
   "cell_type": "code",
   "execution_count": 6,
   "metadata": {},
   "outputs": [
    {
     "data": {
      "text/plain": [
       "['datasets/chest_xray/train\\\\NORMAL', 'datasets/chest_xray/train\\\\PNEUMONIA']"
      ]
     },
     "execution_count": 6,
     "metadata": {},
     "output_type": "execute_result"
    }
   ],
   "source": [
    "folders = glob(train_path + '/*')\n",
    "folders"
   ]
  },
  {
   "cell_type": "code",
   "execution_count": 7,
   "metadata": {},
   "outputs": [
    {
     "name": "stdout",
     "output_type": "stream",
     "text": [
      "Model: \"functional_1\"\n",
      "_________________________________________________________________\n",
      "Layer (type)                 Output Shape              Param #   \n",
      "=================================================================\n",
      "input_1 (InputLayer)         [(None, 224, 224, 3)]     0         \n",
      "_________________________________________________________________\n",
      "block1_conv1 (Conv2D)        (None, 224, 224, 64)      1792      \n",
      "_________________________________________________________________\n",
      "block1_conv2 (Conv2D)        (None, 224, 224, 64)      36928     \n",
      "_________________________________________________________________\n",
      "block1_pool (MaxPooling2D)   (None, 112, 112, 64)      0         \n",
      "_________________________________________________________________\n",
      "block2_conv1 (Conv2D)        (None, 112, 112, 128)     73856     \n",
      "_________________________________________________________________\n",
      "block2_conv2 (Conv2D)        (None, 112, 112, 128)     147584    \n",
      "_________________________________________________________________\n",
      "block2_pool (MaxPooling2D)   (None, 56, 56, 128)       0         \n",
      "_________________________________________________________________\n",
      "block3_conv1 (Conv2D)        (None, 56, 56, 256)       295168    \n",
      "_________________________________________________________________\n",
      "block3_conv2 (Conv2D)        (None, 56, 56, 256)       590080    \n",
      "_________________________________________________________________\n",
      "block3_conv3 (Conv2D)        (None, 56, 56, 256)       590080    \n",
      "_________________________________________________________________\n",
      "block3_conv4 (Conv2D)        (None, 56, 56, 256)       590080    \n",
      "_________________________________________________________________\n",
      "block3_pool (MaxPooling2D)   (None, 28, 28, 256)       0         \n",
      "_________________________________________________________________\n",
      "block4_conv1 (Conv2D)        (None, 28, 28, 512)       1180160   \n",
      "_________________________________________________________________\n",
      "block4_conv2 (Conv2D)        (None, 28, 28, 512)       2359808   \n",
      "_________________________________________________________________\n",
      "block4_conv3 (Conv2D)        (None, 28, 28, 512)       2359808   \n",
      "_________________________________________________________________\n",
      "block4_conv4 (Conv2D)        (None, 28, 28, 512)       2359808   \n",
      "_________________________________________________________________\n",
      "block4_pool (MaxPooling2D)   (None, 14, 14, 512)       0         \n",
      "_________________________________________________________________\n",
      "block5_conv1 (Conv2D)        (None, 14, 14, 512)       2359808   \n",
      "_________________________________________________________________\n",
      "block5_conv2 (Conv2D)        (None, 14, 14, 512)       2359808   \n",
      "_________________________________________________________________\n",
      "block5_conv3 (Conv2D)        (None, 14, 14, 512)       2359808   \n",
      "_________________________________________________________________\n",
      "block5_conv4 (Conv2D)        (None, 14, 14, 512)       2359808   \n",
      "_________________________________________________________________\n",
      "block5_pool (MaxPooling2D)   (None, 7, 7, 512)         0         \n",
      "_________________________________________________________________\n",
      "flatten (Flatten)            (None, 25088)             0         \n",
      "_________________________________________________________________\n",
      "dense (Dense)                (None, 2)                 50178     \n",
      "=================================================================\n",
      "Total params: 20,074,562\n",
      "Trainable params: 50,178\n",
      "Non-trainable params: 20,024,384\n",
      "_________________________________________________________________\n"
     ]
    }
   ],
   "source": [
    "x = Flatten()(vgg.output)\n",
    "prediction = Dense(len(folders), activation='softmax')(x)\n",
    "model = Model(inputs=vgg.input, outputs=prediction)\n",
    "model.summary()"
   ]
  },
  {
   "cell_type": "code",
   "execution_count": 8,
   "metadata": {},
   "outputs": [],
   "source": [
    "model.compile(loss='categorical_crossentropy', optimizer='adam', metrics=['accuracy'])"
   ]
  },
  {
   "cell_type": "code",
   "execution_count": 9,
   "metadata": {},
   "outputs": [],
   "source": [
    "train_datagen = ImageDataGenerator(rescale=1./255,\n",
    "                                  shear_range=0.2,\n",
    "                                  zoom_range=0.2,\n",
    "                                  horizontal_flip=True)\n",
    "test_datagen = ImageDataGenerator(rescale=1./255)"
   ]
  },
  {
   "cell_type": "code",
   "execution_count": 10,
   "metadata": {},
   "outputs": [
    {
     "name": "stdout",
     "output_type": "stream",
     "text": [
      "Found 5216 images belonging to 2 classes.\n",
      "Found 624 images belonging to 2 classes.\n",
      "Found 16 images belonging to 2 classes.\n"
     ]
    }
   ],
   "source": [
    "train_data = train_datagen.flow_from_directory(train_path, target_size=(224, 224), batch_size=32, class_mode='categorical')\n",
    "test_data = test_datagen.flow_from_directory(test_path, target_size=(224, 224), batch_size=32, class_mode='categorical')\n",
    "val_data = test_datagen.flow_from_directory(val_path, target_size=(224, 224), batch_size=32, class_mode='categorical')"
   ]
  },
  {
   "cell_type": "code",
   "execution_count": 11,
   "metadata": {},
   "outputs": [],
   "source": [
    "class bestAccValAcc(tf.keras.callbacks.Callback):\n",
    "    def __init__(self, val_data):\n",
    "        super(bestAccValAcc, self).__init__()\n",
    "        self.val_data = val_data\n",
    "    def on_train_begin(self, logs=None):\n",
    "        self.best_AVA = 0\n",
    "    def on_epoch_end(self, epoch, logs=None):\n",
    "        current_acc = logs.get('accuracy')\n",
    "        loss, acc = self.model.evaluate(self.val_data, verbose=0)\n",
    "        print('\\nTrain Accuracy:', round(current_acc, 4))\n",
    "        print('Val Accuracy:', round(acc, 4))\n",
    "        if ((current_acc + acc)/2) > self.best_AVA:\n",
    "            print('Found better Mode! Saving!')\n",
    "            self.best_AVA = (current_acc + acc)/2\n",
    "            self.model.save('pneumonia_model')"
   ]
  },
  {
   "cell_type": "code",
   "execution_count": 12,
   "metadata": {},
   "outputs": [
    {
     "name": "stdout",
     "output_type": "stream",
     "text": [
      "Epoch 1/20\n",
      "163/163 [==============================] - ETA: 0s - loss: 0.3144 - accuracy: 0.8942\n",
      "Train Accuracy: 0.8942\n",
      "Val Accuracy: 0.8125\n",
      "Found better Mode! Saving!\n",
      "WARNING:tensorflow:From c:\\programdata\\anaconda3\\envs\\tfgpu\\lib\\site-packages\\tensorflow\\python\\training\\tracking\\tracking.py:111: Model.state_updates (from tensorflow.python.keras.engine.training) is deprecated and will be removed in a future version.\n",
      "Instructions for updating:\n",
      "This property should not be used in TensorFlow 2.0, as updates are applied automatically.\n",
      "WARNING:tensorflow:From c:\\programdata\\anaconda3\\envs\\tfgpu\\lib\\site-packages\\tensorflow\\python\\training\\tracking\\tracking.py:111: Layer.updates (from tensorflow.python.keras.engine.base_layer) is deprecated and will be removed in a future version.\n",
      "Instructions for updating:\n",
      "This property should not be used in TensorFlow 2.0, as updates are applied automatically.\n",
      "INFO:tensorflow:Assets written to: pneumonia_model\\assets\n",
      "163/163 [==============================] - 96s 591ms/step - loss: 0.3144 - accuracy: 0.8942 - val_loss: 0.3422 - val_accuracy: 0.8125\n",
      "Epoch 2/20\n",
      "163/163 [==============================] - ETA: 0s - loss: 0.1658 - accuracy: 0.9385\n",
      "Train Accuracy: 0.9385\n",
      "Val Accuracy: 0.8125\n",
      "Found better Mode! Saving!\n",
      "INFO:tensorflow:Assets written to: pneumonia_model\\assets\n",
      "163/163 [==============================] - 95s 581ms/step - loss: 0.1658 - accuracy: 0.9385 - val_loss: 0.5303 - val_accuracy: 0.8125\n",
      "Epoch 3/20\n",
      "163/163 [==============================] - ETA: 0s - loss: 0.1246 - accuracy: 0.9540\n",
      "Train Accuracy: 0.954\n",
      "Val Accuracy: 0.8125\n",
      "Found better Mode! Saving!\n",
      "INFO:tensorflow:Assets written to: pneumonia_model\\assets\n",
      "163/163 [==============================] - 95s 582ms/step - loss: 0.1246 - accuracy: 0.9540 - val_loss: 0.3522 - val_accuracy: 0.8125\n",
      "Epoch 4/20\n",
      "163/163 [==============================] - ETA: 0s - loss: 0.0960 - accuracy: 0.9618\n",
      "Train Accuracy: 0.9618\n",
      "Val Accuracy: 0.6875\n",
      "163/163 [==============================] - 93s 571ms/step - loss: 0.0960 - accuracy: 0.9618 - val_loss: 0.7101 - val_accuracy: 0.6875\n",
      "Epoch 5/20\n",
      "163/163 [==============================] - ETA: 0s - loss: 0.1114 - accuracy: 0.9592\n",
      "Train Accuracy: 0.9592\n",
      "Val Accuracy: 0.8125\n",
      "Found better Mode! Saving!\n",
      "INFO:tensorflow:Assets written to: pneumonia_model\\assets\n",
      "163/163 [==============================] - 97s 596ms/step - loss: 0.1114 - accuracy: 0.9592 - val_loss: 0.3594 - val_accuracy: 0.8125\n",
      "Epoch 6/20\n",
      "163/163 [==============================] - ETA: 0s - loss: 0.1000 - accuracy: 0.9636\n",
      "Train Accuracy: 0.9636\n",
      "Val Accuracy: 0.9375\n",
      "Found better Mode! Saving!\n",
      "INFO:tensorflow:Assets written to: pneumonia_model\\assets\n",
      "163/163 [==============================] - 93s 568ms/step - loss: 0.1000 - accuracy: 0.9636 - val_loss: 0.1323 - val_accuracy: 0.9375\n",
      "Epoch 7/20\n",
      "163/163 [==============================] - ETA: 0s - loss: 0.1052 - accuracy: 0.9615\n",
      "Train Accuracy: 0.9615\n",
      "Val Accuracy: 0.75\n",
      "163/163 [==============================] - 90s 553ms/step - loss: 0.1052 - accuracy: 0.9615 - val_loss: 0.4127 - val_accuracy: 0.7500\n",
      "Epoch 8/20\n",
      "163/163 [==============================] - ETA: 0s - loss: 0.1034 - accuracy: 0.9607\n",
      "Train Accuracy: 0.9607\n",
      "Val Accuracy: 0.6875\n",
      "163/163 [==============================] - 88s 539ms/step - loss: 0.1034 - accuracy: 0.9607 - val_loss: 1.1490 - val_accuracy: 0.6875\n",
      "Epoch 9/20\n",
      "163/163 [==============================] - ETA: 0s - loss: 0.0797 - accuracy: 0.9703\n",
      "Train Accuracy: 0.9703\n",
      "Val Accuracy: 0.75\n",
      "163/163 [==============================] - 88s 542ms/step - loss: 0.0797 - accuracy: 0.9703 - val_loss: 0.3576 - val_accuracy: 0.7500\n",
      "Epoch 10/20\n",
      "163/163 [==============================] - ETA: 0s - loss: 0.0882 - accuracy: 0.9686\n",
      "Train Accuracy: 0.9686\n",
      "Val Accuracy: 0.9375\n",
      "Found better Mode! Saving!\n",
      "INFO:tensorflow:Assets written to: pneumonia_model\\assets\n",
      "163/163 [==============================] - 93s 568ms/step - loss: 0.0882 - accuracy: 0.9686 - val_loss: 0.1862 - val_accuracy: 0.9375\n",
      "Epoch 11/20\n",
      "163/163 [==============================] - ETA: 0s - loss: 0.0813 - accuracy: 0.9703\n",
      "Train Accuracy: 0.9703\n",
      "Val Accuracy: 0.9375\n",
      "Found better Mode! Saving!\n",
      "INFO:tensorflow:Assets written to: pneumonia_model\\assets\n",
      "163/163 [==============================] - 90s 551ms/step - loss: 0.0813 - accuracy: 0.9703 - val_loss: 0.0865 - val_accuracy: 0.9375\n",
      "Epoch 12/20\n",
      "163/163 [==============================] - ETA: 0s - loss: 0.1206 - accuracy: 0.9586\n",
      "Train Accuracy: 0.9586\n",
      "Val Accuracy: 1.0\n",
      "Found better Mode! Saving!\n",
      "INFO:tensorflow:Assets written to: pneumonia_model\\assets\n",
      "163/163 [==============================] - 90s 551ms/step - loss: 0.1206 - accuracy: 0.9586 - val_loss: 0.0713 - val_accuracy: 1.0000\n",
      "Epoch 13/20\n",
      "163/163 [==============================] - ETA: 0s - loss: 0.0780 - accuracy: 0.9699\n",
      "Train Accuracy: 0.9699\n",
      "Val Accuracy: 0.9375\n",
      "163/163 [==============================] - 88s 537ms/step - loss: 0.0780 - accuracy: 0.9699 - val_loss: 0.0995 - val_accuracy: 0.9375\n",
      "Epoch 14/20\n",
      "163/163 [==============================] - ETA: 0s - loss: 0.0830 - accuracy: 0.9709\n",
      "Train Accuracy: 0.9709\n",
      "Val Accuracy: 0.6875\n",
      "163/163 [==============================] - 90s 550ms/step - loss: 0.0830 - accuracy: 0.9709 - val_loss: 0.7633 - val_accuracy: 0.6875\n",
      "Epoch 15/20\n",
      "163/163 [==============================] - ETA: 0s - loss: 0.0810 - accuracy: 0.9722\n",
      "Train Accuracy: 0.9722\n",
      "Val Accuracy: 0.9375\n",
      "163/163 [==============================] - 87s 535ms/step - loss: 0.0810 - accuracy: 0.9722 - val_loss: 0.1383 - val_accuracy: 0.9375\n",
      "Epoch 16/20\n",
      "163/163 [==============================] - ETA: 0s - loss: 0.0764 - accuracy: 0.9712\n",
      "Train Accuracy: 0.9712\n",
      "Val Accuracy: 0.8125\n",
      "163/163 [==============================] - 87s 533ms/step - loss: 0.0764 - accuracy: 0.9712 - val_loss: 0.3356 - val_accuracy: 0.8125\n",
      "Epoch 17/20\n",
      "163/163 [==============================] - ETA: 0s - loss: 0.0741 - accuracy: 0.9764\n",
      "Train Accuracy: 0.9764\n",
      "Val Accuracy: 0.625\n",
      "163/163 [==============================] - 87s 535ms/step - loss: 0.0741 - accuracy: 0.9764 - val_loss: 1.3027 - val_accuracy: 0.6250\n",
      "Epoch 18/20\n",
      "163/163 [==============================] - ETA: 0s - loss: 0.0801 - accuracy: 0.9720\n",
      "Train Accuracy: 0.972\n",
      "Val Accuracy: 1.0\n",
      "Found better Mode! Saving!\n",
      "INFO:tensorflow:Assets written to: pneumonia_model\\assets\n",
      "163/163 [==============================] - 90s 553ms/step - loss: 0.0801 - accuracy: 0.9720 - val_loss: 0.1074 - val_accuracy: 1.0000\n",
      "Epoch 19/20\n",
      "163/163 [==============================] - ETA: 0s - loss: 0.0653 - accuracy: 0.9758\n",
      "Train Accuracy: 0.9758\n",
      "Val Accuracy: 0.6875\n",
      "163/163 [==============================] - 86s 529ms/step - loss: 0.0653 - accuracy: 0.9758 - val_loss: 0.5259 - val_accuracy: 0.6875\n",
      "Epoch 20/20\n",
      "163/163 [==============================] - ETA: 0s - loss: 0.0634 - accuracy: 0.9776\n",
      "Train Accuracy: 0.9776\n",
      "Val Accuracy: 1.0\n",
      "Found better Mode! Saving!\n",
      "INFO:tensorflow:Assets written to: pneumonia_model\\assets\n",
      "163/163 [==============================] - 96s 591ms/step - loss: 0.0634 - accuracy: 0.9776 - val_loss: 0.1120 - val_accuracy: 1.0000\n"
     ]
    }
   ],
   "source": [
    "r = model.fit(train_data, validation_data=val_data, epochs=20, steps_per_epoch=len(train_data), validation_steps=len(val_data), callbacks=[bestAccValAcc(val_data = val_data)])"
   ]
  },
  {
   "cell_type": "code",
   "execution_count": 13,
   "metadata": {},
   "outputs": [
    {
     "name": "stdout",
     "output_type": "stream",
     "text": [
      "[0]\n",
      "[1]\n",
      "[0]\n",
      "[1]\n"
     ]
    }
   ],
   "source": [
    "from tensorflow.keras.preprocessing.image import load_img\n",
    "\n",
    "model = tf.keras.models.load_model('pneumonia_model')\n",
    "\n",
    "img = load_img('F:/dataScienceCompleteProjects/MedicalDiagnosis/datasets/chest_xray/test/NORMAL/IM-0065-0001.jpeg', target_size=(224,224))\n",
    "x = image.img_to_array(img)\n",
    "x/=255\n",
    "x = np.expand_dims(x, axis=0)\n",
    "print(np.argmax(model.predict(x), axis=1))\n",
    "\n",
    "img = load_img('F:/dataScienceCompleteProjects/MedicalDiagnosis/datasets/chest_xray/test/PNEUMONIA/person40_virus_87.jpeg', target_size=(224,224))\n",
    "x = image.img_to_array(img)\n",
    "x/=255\n",
    "x = np.expand_dims(x, axis=0)\n",
    "print(np.argmax(model.predict(x), axis=1))\n",
    "\n",
    "img = load_img('F:/dataScienceCompleteProjects/MedicalDiagnosis/datasets/chest_xray/test/NORMAL/NORMAL2-IM-0086-0001.jpeg', target_size=(224,224))\n",
    "x = image.img_to_array(img)\n",
    "x/=255\n",
    "x = np.expand_dims(x, axis=0)\n",
    "print(np.argmax(model.predict(x), axis=1))\n",
    "\n",
    "img = load_img('F:/dataScienceCompleteProjects/MedicalDiagnosis/datasets/chest_xray/test/PNEUMONIA/person72_virus_133.jpeg', target_size=(224,224))\n",
    "x = image.img_to_array(img)\n",
    "x/=255\n",
    "x = np.expand_dims(x, axis=0)\n",
    "print(np.argmax(model.predict(x), axis=1))"
   ]
  },
  {
   "cell_type": "code",
   "execution_count": null,
   "metadata": {},
   "outputs": [],
   "source": []
  }
 ],
 "metadata": {
  "kernelspec": {
   "display_name": "Python 3",
   "language": "python",
   "name": "python3"
  },
  "language_info": {
   "codemirror_mode": {
    "name": "ipython",
    "version": 3
   },
   "file_extension": ".py",
   "mimetype": "text/x-python",
   "name": "python",
   "nbconvert_exporter": "python",
   "pygments_lexer": "ipython3",
   "version": "3.8.3"
  }
 },
 "nbformat": 4,
 "nbformat_minor": 4
}
